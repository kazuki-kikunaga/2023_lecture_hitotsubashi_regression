{
 "cells": [
  {
   "cell_type": "code",
   "execution_count": 8,
   "metadata": {},
   "outputs": [],
   "source": [
    "from sklearn.datasets import load_boston\n",
    "import pandas as pd\n",
    "import matplotlib.pyplot as plt\n",
    "import seaborn as sns\n",
    "import numpy as np"
   ]
  },
  {
   "cell_type": "code",
   "execution_count": 9,
   "metadata": {},
   "outputs": [],
   "source": [
    "boston = load_boston()\n"
   ]
  },
  {
   "cell_type": "markdown",
   "metadata": {},
   "source": [
    "# Today's Program\n",
    "* Goal\n",
    "* Terminology\n",
    "* Use of Linear Regression analysis\n",
    "* Simple Linear Regression\n",
    "    * Example\n",
    "    * Formula\n",
    "    * Sample size(?)\n",
    "* Multiple Linear Regression\n",
    "    * Example\n",
    "    * Formula\n",
    "    * pitfalls\n",
    "        * Over fitting\n",
    "        * Multicollinearity\n",
    "        * i.i.d \n",
    "* Hands-on practice with HAD (→奥山くん)"
   ]
  },
  {
   "cell_type": "markdown",
   "metadata": {},
   "source": [
    "# Goal\n",
    "* Linear Regressionとはなにかが説明できる\n",
    "* Multiple Linear RegressionがHADで正しく実行できる\n",
    "* Multiple Linear RegressionのHADの結果を理解できる"
   ]
  },
  {
   "cell_type": "markdown",
   "metadata": {},
   "source": [
    "# Terminology\n",
    "* Regression analysis\n",
    "* Variables\n",
    "* Notation"
   ]
  },
  {
   "cell_type": "markdown",
   "metadata": {},
   "source": [
    "### Regression analysis\n",
    "Wikipediaによると、、、  \n",
    "英語： [In statistical modeling, regression analysis is a set of statistical processes for estimating the relationships between a dependent variable (often called the 'outcome' or 'response' variable, or a 'label' in machine learning parlance) and one or more independent variables (often called 'predictors', 'covariates', 'explanatory variables' or 'features'). The most common form of regression analysis is linear regression, in which one finds the line (or a more complex linear combination) that most closely fits the data according to a specific mathematical criterion.](https://en.wikipedia.org/wiki/Regression_analysis)  \n",
    "日本語： [回帰（かいき、（英: regression）とは、統計学において、Y が連続値の時にデータに Y = f(X) というモデル(「定量的な関係の構造[1]」)を当てはめること。別の言い方では、連続尺度の従属変数（目的変数）Y と独立変数（説明変数）X の間にモデルを当てはめること。X が1次元ならば単回帰、X が2次元以上ならば重回帰と言う。Y が離散の場合は分類と言う。回帰分析（かいきぶんせき、（英: regression analysis）とは、回帰により分析すること。回帰で使われる、最も基本的なモデルは Y=AX+B という形式の線形回帰である。](https://ja.wikipedia.org/wiki/%E5%9B%9E%E5%B8%B0%E5%88%86%E6%9E%90)  \n",
    "<br>\n",
    "簡単に言うと  \n",
    "「回帰分析とは、数式を使って変数間の関係を示して分析する」  \n",
    "ってところでしょうか。  \n",
    "今回は、基本的なモデルである、Linear regression(線形回帰)について勉強しましょう。\n",
    "<br>\n"
   ]
  },
  {
   "cell_type": "markdown",
   "metadata": {},
   "source": [
    "### Varibales\n",
    "Wikipediaにあるように変数の呼び方は分野毎に色々あります。  "
   ]
  },
  {
   "cell_type": "markdown",
   "metadata": {},
   "source": [
    "| 結果っぽいもの | 原因っぽいもの |\n",
    "| :---: | :---: |\n",
    "| 従属変数 (DV) | 独立変数 (IV) |\n",
    "| 目的変数 | 説明変数 |\n",
    "| 結果変数 | 暴露変数 |\n",
    "| 応答変数 | 予測変数 |\n",
    "| ターゲット | 特徴量 |\n",
    "| etc. | etc. |"
   ]
  },
  {
   "cell_type": "markdown",
   "metadata": {},
   "source": [
    "### Notation\n",
    "y: DV\n",
    "\n",
    "X: IV\n"
   ]
  },
  {
   "cell_type": "markdown",
   "metadata": {},
   "source": [
    "# Use of Linear Regression analysis  \n",
    "一口に統計解析といっても大きく3つの使用目的があります。\n",
    "* Diagnostic analytics\n",
    "    * What happened?\n",
    "* Predictive analytics\n",
    "    * What will happen?\n",
    "* <font color=\"grey\">(Prescriptive analytics)</font>\n",
    "    * <font color=\"grey\">What action(s) will be the best?</font></font>"
   ]
  },
  {
   "cell_type": "markdown",
   "metadata": {},
   "source": [
    "回帰分析は前二者と直接的に関わっているので、特にDignosticな目的での利用が疫学、心理学では多いですね。"
   ]
  },
  {
   "cell_type": "markdown",
   "metadata": {},
   "source": [
    "# Simple Linear Regression"
   ]
  },
  {
   "cell_type": "markdown",
   "metadata": {},
   "source": [
    "### Example"
   ]
  },
  {
   "cell_type": "markdown",
   "metadata": {},
   "source": [
    "### Formula"
   ]
  },
  {
   "cell_type": "markdown",
   "metadata": {},
   "source": [
    "流れとしては、こんな感じ\n",
    "1. モデルつくる\n",
    "2. Cost functionをつくる\n",
    "3. Cost functionを最小化するパラメータをみつける"
   ]
  },
  {
   "cell_type": "markdown",
   "metadata": {},
   "source": [
    "#####  1　モデルをつくる\n",
    "まずはxに基づいて予測を行うモデルをつくっていきます。"
   ]
  },
  {
   "cell_type": "markdown",
   "metadata": {},
   "source": [
    "$$\n",
    "h_{\\theta}(x) = \\theta_0 + \\theta_1x\n",
    "$$"
   ]
  },
  {
   "cell_type": "markdown",
   "metadata": {},
   "source": [
    "これがSimple linear regressionのモデルですね。名前のまま、簡単な直線的な関係を示してますね。  \n",
    "ちなみに、図にすると$\\theta_0$は切片、$\\theta_1$は傾きになります。"
   ]
  },
  {
   "cell_type": "markdown",
   "metadata": {},
   "source": [
    "##### 2. Cost functionをつくる"
   ]
  },
  {
   "cell_type": "markdown",
   "metadata": {},
   "source": [
    "1でつくったモデルの実際のデータに当てはまり具合（正確には当てはまらない具合）を示すためのCost functionをつくります。"
   ]
  },
  {
   "cell_type": "markdown",
   "metadata": {},
   "source": [
    "$$\n",
    "J(\\theta_0,\\theta_1) = \\displaystyle \\sum_{i=1}^m (h_{\\theta}(x^{(i)})-y^{(i)})^2\n",
    "$$"
   ]
  },
  {
   "cell_type": "markdown",
   "metadata": {},
   "source": [
    "上記が、今回のCost functionになります。  \n",
    "最小二乗法 (Ordinary Least Squares (OLS)) と呼ばれるものですね。  \n",
    "名前の通り、予測した値と実測値の差の二乗を足したものを最小化したいのですね。  \n",
    "ちなみに、「今回の」でお察しの通り、Cost functionは色々作れます。有名なものは最尤推定(Maximum Likelihood Estimation(MLE))ですね。（といっても、Linear regressionではOLSとMLEは同じものになりますが）"
   ]
  },
  {
   "cell_type": "markdown",
   "metadata": {},
   "source": [
    "##### 3. Cost functionを最小化するパラメータをみつける\n",
    "上記のCost functionを最小化するパラメータ$\\theta_0$と$\\theta_1$を求めていきます。  \n",
    "求め方は下記を使ったものが有名ですね。\n",
    "* Normal Equation\n",
    "* Gradient Descent"
   ]
  },
  {
   "cell_type": "markdown",
   "metadata": {},
   "source": [
    "今回は、初学者向けということですので、詳細はスキップしますが、$\\theta_0$と$\\theta_1$が（基本的に）一つに定まります。"
   ]
  },
  {
   "cell_type": "markdown",
   "metadata": {},
   "source": [
    "これがSimple Linear Regressionの中身ですね。"
   ]
  },
  {
   "cell_type": "markdown",
   "metadata": {},
   "source": [
    "# Multiple Linear Regression"
   ]
  },
  {
   "cell_type": "markdown",
   "metadata": {},
   "source": [
    "### Example"
   ]
  },
  {
   "cell_type": "markdown",
   "metadata": {},
   "source": [
    "### Formula"
   ]
  },
  {
   "cell_type": "markdown",
   "metadata": {},
   "source": [
    "Simple linear regressionの拡張版ですね。求め方も同じです。"
   ]
  },
  {
   "cell_type": "markdown",
   "metadata": {},
   "source": [
    "#####  1　モデルをつくる"
   ]
  },
  {
   "cell_type": "markdown",
   "metadata": {},
   "source": [
    "$$\n",
    "h_{\\theta}(x) = \\theta_0 + \\theta_1x_1 + \\theta_2x_2 + \\theta_3x_3 + \\cdots + \\theta_(n-1)x_(n-1) + \\theta_nx_n\n",
    "$$"
   ]
  },
  {
   "cell_type": "markdown",
   "metadata": {},
   "source": [
    "##### 2. Cost functionをつくる"
   ]
  },
  {
   "cell_type": "markdown",
   "metadata": {},
   "source": [
    "$$\n",
    "J(\\theta_0,\\theta_1,\\theta_2,\\theta_3,  \\cdots ,\\theta_{n-1},\\theta_n) = \\displaystyle \\sum_{i=1}^m (h_{\\theta}(x^{(i)})-y^{(i)})^2\n",
    "$$"
   ]
  },
  {
   "cell_type": "markdown",
   "metadata": {},
   "source": [
    "##### 3. Cost functionを最小化するパラメータをみつける\n",
    "略"
   ]
  },
  {
   "cell_type": "markdown",
   "metadata": {},
   "source": [
    "### Formula　（Matrix）"
   ]
  },
  {
   "cell_type": "markdown",
   "metadata": {},
   "source": [
    "行列で書くと簡単にかけますね。"
   ]
  },
  {
   "cell_type": "markdown",
   "metadata": {},
   "source": [
    "$$\n",
    "h_\\mathbf{\\theta}(\\mathbf{X}) = \\mathbf{X}\\mathbf{\\theta}\n",
    "$$"
   ]
  },
  {
   "cell_type": "markdown",
   "metadata": {},
   "source": [
    "$$\n",
    "J(\\mathbf{\\theta}) = (h_\\mathbf{\\theta}(\\mathbf{X})-\\mathbf{y})^\\mathrm{ T }(h_\\mathbf{\\theta}(\\mathbf{X})-\\mathbf{y})\n",
    "$$"
   ]
  },
  {
   "cell_type": "markdown",
   "metadata": {},
   "source": [
    "Normal equationを使うと$J(\\mathbf{\\theta})$を最小する$\\mathbf{\\theta}$も一行で求められます。"
   ]
  },
  {
   "cell_type": "markdown",
   "metadata": {},
   "source": [
    "$$\n",
    "\\mathbf{\\theta} = (\\mathbf{X}^\\mathrm{ T }\\mathbf{X})^{-1}\\mathbf{X}^\\mathrm{ T }y\n",
    "$$"
   ]
  },
  {
   "cell_type": "markdown",
   "metadata": {},
   "source": []
  },
  {
   "cell_type": "markdown",
   "metadata": {},
   "source": []
  },
  {
   "cell_type": "markdown",
   "metadata": {},
   "source": []
  },
  {
   "cell_type": "code",
   "execution_count": null,
   "metadata": {},
   "outputs": [],
   "source": []
  },
  {
   "cell_type": "markdown",
   "metadata": {},
   "source": [
    "$$\n",
    "\\min J(\\theta)\\\\\n",
    "J(\\theta) = \n",
    "$$"
   ]
  },
  {
   "cell_type": "markdown",
   "metadata": {},
   "source": [
    "$$\n",
    "    % 空白は表示に影響しない。コメントは\"%\"で始める\n",
    "    % 下付き文字は\"_a\"、上付き文字は\"^a\"\n",
    "    % 改行は\"\\\\\"を付ける\n",
    "    y_1 = ax^2 \\\\\n",
    "    \n",
    "    \\min f(\\theta)\n",
    "$$"
   ]
  },
  {
   "cell_type": "code",
   "execution_count": null,
   "metadata": {},
   "outputs": [],
   "source": []
  }
 ],
 "metadata": {
  "kernelspec": {
   "display_name": "Python 3",
   "language": "python",
   "name": "python3"
  },
  "language_info": {
   "codemirror_mode": {
    "name": "ipython",
    "version": 3
   },
   "file_extension": ".py",
   "mimetype": "text/x-python",
   "name": "python",
   "nbconvert_exporter": "python",
   "pygments_lexer": "ipython3",
   "version": "3.8.5"
  }
 },
 "nbformat": 4,
 "nbformat_minor": 4
}
