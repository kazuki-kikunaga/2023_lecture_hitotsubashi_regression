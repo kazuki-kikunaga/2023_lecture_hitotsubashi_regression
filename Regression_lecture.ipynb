{
 "cells": [
  {
   "cell_type": "code",
   "execution_count": 8,
   "metadata": {},
   "outputs": [],
   "source": [
    "from sklearn.datasets import load_boston\n",
    "import pandas as pd\n",
    "import matplotlib.pyplot as plt\n",
    "import seaborn as sns\n",
    "import numpy as np"
   ]
  },
  {
   "cell_type": "code",
   "execution_count": 9,
   "metadata": {},
   "outputs": [],
   "source": [
    "boston = load_boston()\n"
   ]
  },
  {
   "cell_type": "markdown",
   "metadata": {},
   "source": [
    "# Today's Program\n",
    "* Goal\n",
    "* Terminology\n",
    "* Use of Linear Regression analysis\n",
    "* Simple Linear Regression\n",
    "* Multiple Linear Regression\n",
    "* Hands-on practice with HAD (→奥山くん)"
   ]
  },
  {
   "cell_type": "markdown",
   "metadata": {},
   "source": [
    "##### 注意：今回は母集団と標本の違いについて事前知識がない前提で話します。（統計ゼミで触れてない＆分布とかの説明は後回しにしたほうがよいとのお話があったので。）そのため、推定に関する話は回避してます。"
   ]
  },
  {
   "cell_type": "markdown",
   "metadata": {},
   "source": [
    "# Goal\n",
    "* Linear Regressionとはなにかが説明できる\n",
    "* Multiple Linear RegressionがHADで正しく実行できる\n",
    "* Multiple Linear RegressionのHADの結果を理解できる"
   ]
  },
  {
   "cell_type": "markdown",
   "metadata": {},
   "source": [
    "# Terminology\n",
    "* Regression analysis\n",
    "* Variables\n",
    "* Notation"
   ]
  },
  {
   "cell_type": "markdown",
   "metadata": {},
   "source": [
    "### Regression analysis\n",
    "Wikipediaによると、、、  \n",
    "英語： [In statistical modeling, regression analysis is a set of statistical processes for estimating the relationships between a dependent variable (often called the 'outcome' or 'response' variable, or a 'label' in machine learning parlance) and one or more independent variables (often called 'predictors', 'covariates', 'explanatory variables' or 'features'). The most common form of regression analysis is linear regression, in which one finds the line (or a more complex linear combination) that most closely fits the data according to a specific mathematical criterion.](https://en.wikipedia.org/wiki/Regression_analysis)  \n",
    "日本語： [回帰（かいき、（英: regression）とは、統計学において、Y が連続値の時にデータに Y = f(X) というモデル(「定量的な関係の構造[1]」)を当てはめること。別の言い方では、連続尺度の従属変数（目的変数）Y と独立変数（説明変数）X の間にモデルを当てはめること。X が1次元ならば単回帰、X が2次元以上ならば重回帰と言う。Y が離散の場合は分類と言う。回帰分析（かいきぶんせき、（英: regression analysis）とは、回帰により分析すること。回帰で使われる、最も基本的なモデルは Y=AX+B という形式の線形回帰である。](https://ja.wikipedia.org/wiki/%E5%9B%9E%E5%B8%B0%E5%88%86%E6%9E%90)  \n",
    "<br>\n",
    "簡単に言うと  \n",
    "「回帰分析とは、数式を使って変数間の関係を示して分析する」  \n",
    "ってところでしょうか。  \n",
    "今回は、基本的なモデルである、Linear regression(線形回帰)について勉強しましょう。\n",
    "<br>\n"
   ]
  },
  {
   "cell_type": "markdown",
   "metadata": {},
   "source": [
    "### Varibales\n",
    "Wikipediaにあるように変数の呼び方は分野毎に色々あります。  "
   ]
  },
  {
   "cell_type": "markdown",
   "metadata": {},
   "source": [
    "| 結果っぽいもの | 原因っぽいもの |\n",
    "| :---: | :---: |\n",
    "| 従属変数 (DV) | 独立変数 (IV) |\n",
    "| 目的変数 | 説明変数 |\n",
    "| 結果変数 | 暴露変数 |\n",
    "| 応答変数 | 予測変数 |\n",
    "| ターゲット | 特徴量 |\n",
    "| etc. | etc. |"
   ]
  },
  {
   "cell_type": "markdown",
   "metadata": {},
   "source": [
    "### Notation\n",
    "y: DV\n",
    "\n",
    "X: IV\n"
   ]
  },
  {
   "cell_type": "markdown",
   "metadata": {},
   "source": [
    "# Use of Linear Regression analysis  \n",
    "一口に統計解析といっても大きく3つの使用目的があります。\n",
    "* Diagnostic analytics\n",
    "    * What happened?\n",
    "* Predictive analytics\n",
    "    * What will happen?\n",
    "* <font color=\"grey\">(Prescriptive analytics)</font>\n",
    "    * <font color=\"grey\">What action(s) will be the best?</font></font>"
   ]
  },
  {
   "cell_type": "markdown",
   "metadata": {},
   "source": [
    "回帰分析は前二者と直接的に関わっているので、特にDiagnosticな目的での利用が疫学、心理学では多いですね。"
   ]
  },
  {
   "cell_type": "markdown",
   "metadata": {},
   "source": [
    "# Simple Linear Regression"
   ]
  },
  {
   "cell_type": "markdown",
   "metadata": {},
   "source": [
    "### Example"
   ]
  },
  {
   "cell_type": "code",
   "execution_count": 17,
   "metadata": {},
   "outputs": [],
   "source": [
    "from sklearn import datasets, linear_model"
   ]
  },
  {
   "cell_type": "code",
   "execution_count": 53,
   "metadata": {},
   "outputs": [],
   "source": [
    "import statsmodels.api as sm"
   ]
  },
  {
   "cell_type": "code",
   "execution_count": 45,
   "metadata": {},
   "outputs": [],
   "source": [
    "%matplotlib inline"
   ]
  },
  {
   "cell_type": "code",
   "execution_count": 180,
   "metadata": {},
   "outputs": [
    {
     "name": "stdout",
     "output_type": "stream",
     "text": [
      "DV = 0 + 79.17*IV　にノイズを加えて作ったデータ\n"
     ]
    },
    {
     "data": {
      "image/png": "[encoded data removed]",
      "text/plain": [
       "<Figure size 432x288 with 1 Axes>"
      ]
     },
     "metadata": {
      "needs_background": "light"
     },
     "output_type": "display_data"
    },
    {
     "name": "stdout",
     "output_type": "stream",
     "text": [
      "予測式：　DV = 22.35 + 84.36*IV\n"
     ]
    },
    {
     "data": {
      "image/png": "[encoded data removed]",
      "text/plain": [
       "<Figure size 432x288 with 1 Axes>"
      ]
     },
     "metadata": {
      "needs_background": "light"
     },
     "output_type": "display_data"
    }
   ],
   "source": [
    "# サンピルサイズとノイズが予測に与える影響を話したいときは下記を変化させる\n",
    "n_samples = 10\n",
    "noise_size = 50\n",
    "\n",
    "X, y, coef = datasets.make_regression(\n",
    "    n_samples=n_samples,\n",
    "    n_features=1,\n",
    "    n_informative=1,\n",
    "    bias = 0,\n",
    "    noise=noise_size,\n",
    "    coef=True,\n",
    "    random_state=0\n",
    ")\n",
    "print(\"DV = 0 + \", round(np.atleast_1d(coef)[0],2), \"*IV\", \"　にノイズを加えて作ったデータ\",sep=\"\")\n",
    "plt.scatter(X, y, color=\"yellowgreen\", marker=\".\", label=\"Datapoints\")\n",
    "plt.legend(loc=\"lower right\")\n",
    "plt.xlabel(\"IV\")\n",
    "plt.ylabel(\"DV\")\n",
    "plt.show()\n",
    "\n",
    "lr = linear_model.LinearRegression()\n",
    "lr.fit(X, y)\n",
    "print(\"予測式：　DV = \", round(lr.intercept_, 2), \" + \", round(lr.coef_[0], 2), \"*IV\", sep = \"\")\n",
    "\n",
    "\n",
    "line_X = np.linspace(X.min(), X.max())[:, np.newaxis]\n",
    "line_y = lr.predict(line_X)\n",
    "\n",
    "plt.scatter(X, y, color=\"yellowgreen\", marker=\".\", label=\"Datapoints\")\n",
    "plt.plot(line_X, line_y, color=\"navy\", linewidth=2, label=\"Linear regressor\")\n",
    "plt.legend(loc=\"lower right\")\n",
    "plt.xlabel(\"IV\")\n",
    "plt.ylabel(\"DV\")\n",
    "plt.show()"
   ]
  },
  {
   "cell_type": "markdown",
   "metadata": {},
   "source": [
    "# MEMO:SSEとフィットしない線をつける"
   ]
  },
  {
   "cell_type": "markdown",
   "metadata": {},
   "source": [
    "### Formula"
   ]
  },
  {
   "cell_type": "markdown",
   "metadata": {},
   "source": [
    "流れとしては、こんな感じ\n",
    "1. モデルつくる\n",
    "2. Cost functionをつくる\n",
    "3. Cost functionを最小化するパラメータをみつける"
   ]
  },
  {
   "cell_type": "markdown",
   "metadata": {},
   "source": [
    "#####  1　モデルをつくる\n",
    "まずはxに基づいて予測を行うモデルをつくっていきます。"
   ]
  },
  {
   "cell_type": "markdown",
   "metadata": {},
   "source": [
    "$$\n",
    "h_{\\theta}(x) = \\theta_0 + \\theta_1x\n",
    "$$"
   ]
  },
  {
   "cell_type": "markdown",
   "metadata": {},
   "source": [
    "これがSimple linear regressionのモデルですね。名前のまま、簡単な線形な関係を示してますね。  \n",
    "ちなみに、図にすると$\\theta_0$は切片、$\\theta_1$は傾きになります。"
   ]
  },
  {
   "cell_type": "markdown",
   "metadata": {},
   "source": [
    "##### 2. Cost functionをつくる"
   ]
  },
  {
   "cell_type": "markdown",
   "metadata": {},
   "source": [
    "1でつくったモデルの実際のデータに当てはまり具合（正確には当てはまらない具合）を示すためのCost functionをつくります。"
   ]
  },
  {
   "cell_type": "markdown",
   "metadata": {},
   "source": [
    "$$\n",
    "J(\\theta_0,\\theta_1) = \\displaystyle \\sum_{i=1}^m (h_{\\theta}(x^{(i)})-y^{(i)})^2\n",
    "$$"
   ]
  },
  {
   "cell_type": "markdown",
   "metadata": {},
   "source": [
    "上記が、今回のCost functionになります。  \n",
    "最小二乗法 (Ordinary Least Squares (OLS)) と呼ばれるものですね。  \n",
    "名前の通り、予測した値と実測値の差の二乗を足したものを最小化したいのですね。  \n",
    "ちなみに、「今回の」でお察しの通り、Cost functionは色々作れます。有名なものは最尤推定(Maximum Likelihood Estimation(MLE))ですね。（といっても、Linear regressionではOLSとMLEは同じものになりますが）"
   ]
  },
  {
   "cell_type": "markdown",
   "metadata": {},
   "source": [
    "##### 3. Cost functionを最小化するパラメータをみつける\n",
    "上記のCost functionを最小化するパラメータ$\\theta_0$と$\\theta_1$を求めていきます。  \n",
    "求め方は下記を使ったものが有名ですね。\n",
    "* Normal Equation\n",
    "* Gradient Descent"
   ]
  },
  {
   "cell_type": "markdown",
   "metadata": {},
   "source": [
    "今回は、初学者向けということですので、詳細はスキップしますが、$\\theta_0$と$\\theta_1$が（基本的に）一つに定まります。  \n",
    "上の例では、$\\theta_0$が22.35、$\\theta_1$が84.36となったわけですね。"
   ]
  },
  {
   "cell_type": "markdown",
   "metadata": {},
   "source": [
    "これがSimple Linear Regressionの中身ですね。"
   ]
  },
  {
   "cell_type": "markdown",
   "metadata": {},
   "source": [
    "# Multiple Linear Regression"
   ]
  },
  {
   "cell_type": "markdown",
   "metadata": {},
   "source": [
    "### Example"
   ]
  },
  {
   "cell_type": "code",
   "execution_count": 182,
   "metadata": {},
   "outputs": [],
   "source": [
    "from sklearn.metrics import mean_squared_error"
   ]
  },
  {
   "cell_type": "code",
   "execution_count": 195,
   "metadata": {},
   "outputs": [
    {
     "data": {
      "image/png": "[encoded data removed]",
      "text/plain": [
       "<Figure size 432x288 with 1 Axes>"
      ]
     },
     "metadata": {
      "needs_background": "light"
     },
     "output_type": "display_data"
    },
    {
     "name": "stdout",
     "output_type": "stream",
     "text": [
      "全体で回帰したとき（navy）とdatapoints_type1（yellowgreen）、datapoits_type2（salmon）を区別してそれぞれ回帰したときを比べてみましょう。\n",
      "\n",
      "navy色の予測式：　DV = -77.65 + 84.36*IV\n",
      "J(θ): 121694.54\n",
      "yellowgreen色の予測式：　DV = 22.35 + 84.36*IV\n",
      "J(θ): 21694.54\n",
      "salmon色の予測式：　DV = -177.65 + 84.36*IV\n",
      "J(θ): 21694.54\n"
     ]
    },
    {
     "data": {
      "image/png": "[encoded data removed]",
      "text/plain": [
       "<Figure size 432x288 with 1 Axes>"
      ]
     },
     "metadata": {
      "needs_background": "light"
     },
     "output_type": "display_data"
    },
    {
     "name": "stdout",
     "output_type": "stream",
     "text": [
      "type毎に区別して回帰線を引いたほうが、それぞれのDatapointsからのずれが少なくなってることがわかりますね\n"
     ]
    }
   ],
   "source": [
    "# 特徴量を加えると予測が良くなることを例示のみとして使用。\n",
    "# 計算自体は、multiple linear regressionではないので注意。\n",
    "n_samples = 10\n",
    "\n",
    "X_1, y_1, coef_1 = datasets.make_regression(\n",
    "    n_samples=n_samples,\n",
    "    n_features=1,\n",
    "    n_informative=1,\n",
    "    bias = 0,\n",
    "    noise=50,\n",
    "    coef=True,\n",
    "    random_state=0\n",
    ")\n",
    "plt.scatter(X_1, y_1, color=\"yellowgreen\", marker=\".\", label=\"Datapoints_type1\")\n",
    "\n",
    "X_2, y_2, coef_2 = datasets.make_regression(\n",
    "    n_samples=n_samples,\n",
    "    n_features=1,\n",
    "    n_informative=1,\n",
    "    bias = -200,\n",
    "    noise=50,\n",
    "    coef=True,\n",
    "    random_state=0\n",
    ")\n",
    "plt.scatter(X_2, y_2, color=\"salmon\", marker=\".\", label=\"Datapoints_type2\")\n",
    "\n",
    "\n",
    "plt.legend(loc=\"lower right\")\n",
    "plt.xlabel(\"IV\")\n",
    "plt.ylabel(\"DV\")\n",
    "plt.show()\n",
    "\n",
    "print(\"全体で回帰したとき（navy）とdatapoints_type1（yellowgreen）、datapoits_type2（salmon）を区別してそれぞれ回帰したときを比べてみましょう。\")\n",
    "print()\n",
    "\n",
    "plt.scatter(X_1, y_1, color=\"yellowgreen\", marker=\".\", label=\"Datapoints_type1\")\n",
    "plt.scatter(X_2, y_2, color=\"salmon\", marker=\".\", label=\"Datapoints_type2\")\n",
    "\n",
    "X_total = np.concatenate([X_1,X_2])\n",
    "y_total = np.concatenate([y_1,y_2])\n",
    "\n",
    "for X,y,color in [[X_total,y_total,\"navy\"],[X_1,y_1,\"yellowgreen\"],[X_2,y_2,\"salmon\"]]:\n",
    "    lr = linear_model.LinearRegression()\n",
    "    lr.fit(X, y)\n",
    "    SSE = round(mean_squared_error(y, lr.predict(X))*n_samples,2)\n",
    "    print(color,\"色の予測式：　DV = \", round(lr.intercept_, 2), \" + \", round(lr.coef_[0], 2), \"*IV\", sep = \"\")\n",
    "    print(\"J(\\u03B8):\",SSE)\n",
    "    line_X = np.linspace(X.min(), X.max())[:, np.newaxis]\n",
    "    line_y = lr.predict(line_X)\n",
    "    plt.plot(line_X, line_y, color=color, linewidth=2)\n",
    "\n",
    "plt.legend(loc=\"lower right\")\n",
    "plt.xlabel(\"IV\")\n",
    "plt.ylabel(\"DV\")\n",
    "plt.show()\n",
    "print(\"type毎に区別して回帰線を引いたほうが、それぞれのDatapointsからのずれが少なくなってることがわかりますね\")"
   ]
  },
  {
   "cell_type": "markdown",
   "metadata": {},
   "source": [
    "### Formula"
   ]
  },
  {
   "cell_type": "markdown",
   "metadata": {},
   "source": [
    "Simple linear regressionの拡張版ですね。求め方も同じです。"
   ]
  },
  {
   "cell_type": "markdown",
   "metadata": {},
   "source": [
    "#####  1　モデルをつくる"
   ]
  },
  {
   "cell_type": "markdown",
   "metadata": {},
   "source": [
    "$$\n",
    "h_{\\theta}(x) = \\theta_0 + \\theta_1x_1 + \\theta_2x_2 + \\theta_3x_3 + \\cdots + \\theta_(n-1)x_(n-1) + \\theta_nx_n\n",
    "$$"
   ]
  },
  {
   "cell_type": "markdown",
   "metadata": {},
   "source": [
    "##### 2. Cost functionをつくる"
   ]
  },
  {
   "cell_type": "markdown",
   "metadata": {},
   "source": [
    "$$\n",
    "J(\\theta_0,\\theta_1,\\theta_2,\\theta_3,  \\cdots ,\\theta_{n-1},\\theta_n) = \\displaystyle \\sum_{i=1}^m (h_{\\theta}(x^{(i)})-y^{(i)})^2\n",
    "$$"
   ]
  },
  {
   "cell_type": "markdown",
   "metadata": {},
   "source": [
    "##### 3. Cost functionを最小化するパラメータをみつける\n",
    "略"
   ]
  },
  {
   "cell_type": "markdown",
   "metadata": {},
   "source": [
    "##### Formula　（Matrix）"
   ]
  },
  {
   "cell_type": "markdown",
   "metadata": {},
   "source": [
    "行列で書くと簡単にかけますね。"
   ]
  },
  {
   "cell_type": "markdown",
   "metadata": {},
   "source": [
    "$$\n",
    "h_\\mathbf{\\theta}(\\mathbf{X}) = \\mathbf{X}\\mathbf{\\theta}\n",
    "$$"
   ]
  },
  {
   "cell_type": "markdown",
   "metadata": {},
   "source": [
    "$$\n",
    "J(\\mathbf{\\theta}) = (h_\\mathbf{\\theta}(\\mathbf{X})-\\mathbf{y})^\\mathrm{ T }(h_\\mathbf{\\theta}(\\mathbf{X})-\\mathbf{y})\n",
    "$$"
   ]
  },
  {
   "cell_type": "markdown",
   "metadata": {},
   "source": [
    "Normal equationを使うと$J(\\mathbf{\\theta})$を最小する$\\mathbf{\\theta}$も一行で求められます。"
   ]
  },
  {
   "cell_type": "markdown",
   "metadata": {},
   "source": [
    "$$\n",
    "\\mathbf{\\theta} = (\\mathbf{X}^\\mathrm{ T }\\mathbf{X})^{-1}\\mathbf{X}^\\mathrm{ T }y\n",
    "$$"
   ]
  },
  {
   "cell_type": "markdown",
   "metadata": {},
   "source": [
    "### Pithalls"
   ]
  },
  {
   "cell_type": "markdown",
   "metadata": {},
   "source": [
    "##### DVとIVが非直線的な関係性の場合\n",
    "上記のものをそのまま適用するとDVとIVが非直線的な関係性の場合うまくフィットしません。  \n",
    "下の図のような関係だときれいにフィットしませんね。  \n",
    "そのようなときは、変更を加える必要があります。  \n",
    "下のようなものが有名ですね。\n",
    "* IVのべき乗やIV同士の乗法の項などを$h(\\theta)$に加える\n",
    "* $h(\\theta)$に変更を加える\n",
    "* DVに変更を加える"
   ]
  },
  {
   "cell_type": "code",
   "execution_count": 263,
   "metadata": {},
   "outputs": [],
   "source": [
    "from sklearn.preprocessing import PolynomialFeatures\n"
   ]
  },
  {
   "cell_type": "code",
   "execution_count": 264,
   "metadata": {},
   "outputs": [
    {
     "data": {
      "image/png": "[encoded data removed]",
      "text/plain": [
       "<Figure size 432x288 with 1 Axes>"
      ]
     },
     "metadata": {
      "needs_background": "light"
     },
     "output_type": "display_data"
    },
    {
     "name": "stdout",
     "output_type": "stream",
     "text": [
      "navyの予測式：　DV = 129.26 + 93.37*IV\n",
      "redの予測式：　DV = 234.54 + 25.51*IV + 7.03*IV^2\n"
     ]
    },
    {
     "data": {
      "image/png": "[encoded data removed]",
      "text/plain": [
       "<Figure size 432x288 with 1 Axes>"
      ]
     },
     "metadata": {
      "needs_background": "light"
     },
     "output_type": "display_data"
    }
   ],
   "source": [
    "np.random.seed(0)\n",
    "X = 10*np.random.rand(100,1)\n",
    "y = 10*((X)**(2)) + 500*np.random.rand(100,1)\n",
    "plt.scatter(X, y, color=\"yellowgreen\", marker=\".\", label=\"Datapoints\")\n",
    "plt.xlabel(\"IV\")\n",
    "plt.ylabel(\"DV\")\n",
    "plt.show()\n",
    "\n",
    "plt.scatter(X, y, color=\"yellowgreen\", marker=\".\", label=\"Datapoints\")\n",
    "\n",
    "\n",
    "lr = linear_model.LinearRegression()\n",
    "lr.fit(X, y)\n",
    "print(\"navyの予測式：　DV = \", np.round(lr.intercept_, 2)[0], \" + \", np.round(lr.coef_, 2)[0][0], \"*IV\", sep = \"\")\n",
    "line_X = np.linspace(X.min(), X.max())[:, np.newaxis]\n",
    "line_y = lr.predict(line_X)\n",
    "plt.plot(line_X, line_y, color=\"navy\", linewidth=2, label=\"Linear regressor\")\n",
    "\n",
    "polynomial_features= PolynomialFeatures(include_bias=False,degree=2)\n",
    "X_poly = polynomial_features.fit_transform(X)\n",
    "lr = linear_model.LinearRegression()\n",
    "lr.fit(X_poly, y)\n",
    "print(\"redの予測式：　DV = \", np.round(lr.intercept_, 2)[0], \" + \", np.round(lr.coef_, 2)[0][0], \"*IV\"\\\n",
    "      , \" + \", np.round(lr.coef_, 2)[0][1], \"*IV^2\", sep = \"\")\n",
    "line_X = np.linspace(X.min(), X.max())[:, np.newaxis]\n",
    "line_y = lr.predict(polynomial_features.fit_transform(line_X))\n",
    "plt.plot(line_X, line_y, color=\"red\", linewidth=2, label=\"Polynomial regressor\")\n",
    "\n",
    "plt.legend(loc=\"lower right\")\n",
    "plt.xlabel(\"IV\")\n",
    "plt.ylabel(\"DV\")\n",
    "plt.show()\n"
   ]
  },
  {
   "cell_type": "markdown",
   "metadata": {},
   "source": [
    "##### Overfitting\n",
    "上でみたようにIVを加えていてくとフィッティングの精度があがっていきますが、当てはめに使ったデータに即しすぎてしまうこと（Overfitting）があります。  \n",
    "例えば下のようなデータの場合、直感的には直線的な関係性を予想しますよね？"
   ]
  },
  {
   "cell_type": "code",
   "execution_count": 298,
   "metadata": {},
   "outputs": [
    {
     "name": "stdout",
     "output_type": "stream",
     "text": [
      "DV = 0 + 51.8*IV　にノイズを加えて作ったデータ\n"
     ]
    },
    {
     "data": {
      "image/png": "[encoded data removed]",
      "text/plain": [
       "<Figure size 432x288 with 1 Axes>"
      ]
     },
     "metadata": {
      "needs_background": "light"
     },
     "output_type": "display_data"
    }
   ],
   "source": [
    "n_samples = 10\n",
    "noise_size = 50\n",
    "\n",
    "X, y, coef = datasets.make_regression(\n",
    "    n_samples=n_samples,\n",
    "    n_features=1,\n",
    "    n_informative=1,\n",
    "    bias = 0,\n",
    "    noise=noise_size,\n",
    "    coef=True,\n",
    "    random_state=6\n",
    ")\n",
    "print(\"DV = 0 + \", round(np.atleast_1d(coef)[0],2), \"*IV\", \"　にノイズを加えて作ったデータ\",sep=\"\")\n",
    "plt.scatter(X, y, color=\"yellowgreen\", marker=\".\", label=\"Datapoints\")\n",
    "plt.legend(loc=\"lower right\")\n",
    "plt.xlabel(\"IV\")\n",
    "plt.ylabel(\"DV\")\n",
    "plt.show()"
   ]
  },
  {
   "cell_type": "code",
   "execution_count": 310,
   "metadata": {},
   "outputs": [
    {
     "name": "stdout",
     "output_type": "stream",
     "text": [
      "4次元の項までいれた予測式\n"
     ]
    },
    {
     "data": {
      "image/png": "[encoded data removed]",
      "text/plain": [
       "<Figure size 432x288 with 1 Axes>"
      ]
     },
     "metadata": {
      "needs_background": "light"
     },
     "output_type": "display_data"
    }
   ],
   "source": [
    "# n_dimentionを変えることで違いをみれる(4がわかりやすい)\n",
    "n_dimention = 4\n",
    "p4 = np.polyfit(X.flatten(), y.flatten(), n_dimention) \n",
    "xp = np.linspace(X.min(), X.max(), 1000)\n",
    "p = np.poly1d(p4)\n",
    "\n",
    "print(str(n_dimention)+\"次元の項までいれた予測式\")\n",
    "\n",
    "plt.scatter(X, y, color=\"yellowgreen\", marker=\".\", label=\"Datapoints\")\n",
    "plt.plot(xp, p(xp), c='r')\n",
    "plt.legend(loc=\"lower right\")\n",
    "plt.xlabel(\"IV\")\n",
    "plt.ylabel(\"DV\")\n",
    "plt.show()"
   ]
  },
  {
   "cell_type": "markdown",
   "metadata": {},
   "source": [
    "ノイズにだいぶ引っ張られてしまってますね。  \n",
    "疫学では、Datapointの7〜10分の1個くらいまでの項数がよいと慣習的にされています。"
   ]
  },
  {
   "cell_type": "markdown",
   "metadata": {},
   "source": [
    "##### Multicollinearity\n",
    "「マルチコ」と略されたりするやつですね。  \n",
    "簡単に言うとIV間の相関が高い場合、当該IVの$\\theta$の推定が悪くなるというものですね。特に完全に相関していると手法によっては$\\theta$自体が算出できなくなります。  \n",
    "VIFという値をみることでマルチコが起きているかどうかを確認するのが一般的ですね。"
   ]
  },
  {
   "cell_type": "markdown",
   "metadata": {},
   "source": [
    "##### 残差について\n",
    "実測値（y）と推定値（$h_{\\theta}(x)$）の差を残差と言いますが、それが下記の条件を満たしていないと、うまく推定が行えないので注意！\n",
    "* 独立同一分布（i.i.d）に従うこと\n",
    "* 正規分布していること\n",
    "* heteroscedasticityであること（分散が同じであること）"
   ]
  },
  {
   "cell_type": "markdown",
   "metadata": {},
   "source": [
    "他にもいろいろとあいますが、今回はここらでやめておきましょう。またの機会に"
   ]
  },
  {
   "cell_type": "markdown",
   "metadata": {},
   "source": [
    "# Thank youuuuu"
   ]
  }
 ],
 "metadata": {
  "kernelspec": {
   "display_name": "Python 3",
   "language": "python",
   "name": "python3"
  },
  "language_info": {
   "codemirror_mode": {
    "name": "ipython",
    "version": 3
   },
   "file_extension": ".py",
   "mimetype": "text/x-python",
   "name": "python",
   "nbconvert_exporter": "python",
   "pygments_lexer": "ipython3",
   "version": "3.8.5"
  }
 },
 "nbformat": 4,
 "nbformat_minor": 4
}
